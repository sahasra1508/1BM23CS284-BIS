{
  "nbformat": 4,
  "nbformat_minor": 0,
  "metadata": {
    "colab": {
      "provenance": []
    },
    "kernelspec": {
      "name": "python3",
      "display_name": "Python 3"
    },
    "language_info": {
      "name": "python"
    }
  },
  "cells": [
    {
      "cell_type": "code",
      "execution_count": 10,
      "metadata": {
        "colab": {
          "base_uri": "https://localhost:8080/"
        },
        "id": "TdQeTd9kdiuk",
        "outputId": "60133076-dc15-4074-ff28-4ab25bdbd266"
      },
      "outputs": [
        {
          "output_type": "stream",
          "name": "stdout",
          "text": [
            "Iteration 1, Best Makespan: 18\n",
            "Iteration 2, Best Makespan: 18\n",
            "Iteration 3, Best Makespan: 18\n",
            "Iteration 4, Best Makespan: 17\n",
            "Iteration 5, Best Makespan: 17\n",
            "\n",
            "Best job order: [np.int64(3), np.int64(0), np.int64(6), np.int64(2), np.int64(1), np.int64(5), np.int64(4)]\n",
            "Best makespan: 17\n"
          ]
        }
      ],
      "source": [
        "import numpy as np\n",
        "\n",
        "class AntColonyJobScheduling:\n",
        "    def __init__(self, processing_times, n_ants=10, n_iterations=50, alpha=1, beta=2, evaporation_rate=0.5, q=100):\n",
        "\n",
        "        self.processing_times = np.array(processing_times)\n",
        "        self.n_jobs = len(processing_times)\n",
        "        self.n_ants = n_ants\n",
        "        self.n_iterations = n_iterations\n",
        "        self.alpha = alpha\n",
        "        self.beta = beta\n",
        "        self.evaporation_rate = evaporation_rate\n",
        "        self.q = q\n",
        "\n",
        "\n",
        "        self.pheromone = np.ones((self.n_jobs, self.n_jobs))\n",
        "\n",
        "        self.heuristic = 1 / (self.processing_times + 1e-6)\n",
        "\n",
        "    def _select_next_job(self, current_job, unvisited):\n",
        "        pheromone = self.pheromone[current_job][unvisited] ** self.alpha\n",
        "        heuristic = self.heuristic[unvisited] ** self.beta\n",
        "        probs = pheromone * heuristic\n",
        "        probs /= probs.sum()\n",
        "        next_job = np.random.choice(unvisited, p=probs)\n",
        "        return next_job\n",
        "\n",
        "    def _build_solution(self):\n",
        "        solution = []\n",
        "        unvisited = list(range(self.n_jobs))\n",
        "        current_job = np.random.choice(unvisited)\n",
        "        solution.append(current_job)\n",
        "        unvisited.remove(current_job)\n",
        "\n",
        "        while unvisited:\n",
        "            next_job = self._select_next_job(current_job, unvisited)\n",
        "            solution.append(next_job)\n",
        "            unvisited.remove(next_job)\n",
        "            current_job = next_job\n",
        "\n",
        "        return solution\n",
        "\n",
        "    def _calculate_makespan(self, solution, n_machines=2):\n",
        "\n",
        "        machine_times = [0]*n_machines\n",
        "        for job in solution:\n",
        "            idx = np.argmin(machine_times)\n",
        "            machine_times[idx] += self.processing_times[job]\n",
        "        return max(machine_times)\n",
        "\n",
        "    def _update_pheromone(self, solutions, makespans):\n",
        "        self.pheromone *= (1 - self.evaporation_rate)\n",
        "        for sol, mk in zip(solutions, makespans):\n",
        "            for i in range(len(sol) - 1):\n",
        "                self.pheromone[sol[i]][sol[i+1]] += self.q / mk\n",
        "\n",
        "    def run(self, n_machines=2):\n",
        "        best_solution = None\n",
        "        best_makespan = float('inf')\n",
        "\n",
        "        for iteration in range(self.n_iterations):\n",
        "            solutions = []\n",
        "            makespans = []\n",
        "            for _ in range(self.n_ants):\n",
        "                sol = self._build_solution()\n",
        "                mk = self._calculate_makespan(sol, n_machines)\n",
        "                solutions.append(sol)\n",
        "                makespans.append(mk)\n",
        "                if mk < best_makespan:\n",
        "                    best_makespan = mk\n",
        "                    best_solution = sol\n",
        "            self._update_pheromone(solutions, makespans)\n",
        "            print(f\"Iteration {iteration+1}, Best Makespan: {best_makespan}\")\n",
        "\n",
        "        return best_solution, best_makespan\n",
        "\n",
        "processing_times = [2, 14, 4, 16, 6, 5, 3]\n",
        "aco = AntColonyJobScheduling(processing_times, n_ants=20, n_iterations=5)\n",
        "best_schedule, best_time = aco.run(n_machines=3)\n",
        "print(\"\\nBest job order:\", best_schedule)\n",
        "print(\"Best makespan:\", best_time)\n"
      ]
    }
  ]
}